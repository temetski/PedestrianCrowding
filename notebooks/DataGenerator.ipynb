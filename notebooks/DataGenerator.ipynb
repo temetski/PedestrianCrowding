{
 "cells": [
  {
   "cell_type": "code",
   "execution_count": 1,
   "metadata": {},
   "outputs": [],
   "source": [
    "import numpy as np\n",
    "import matplotlib\n",
    "import matplotlib.pyplot as plt\n",
    "from matplotlib import animation\n",
    "from IPython.display import HTML\n",
    "# import pyximport; pyximport.install()\n",
    "from PedestrianCrowding import Road\n",
    "from multiprocessing import Pool, Manager\n",
    "import itertools\n",
    "import pandas as pd\n",
    "import plot_init as pu\n",
    "import csv"
   ]
  },
  {
   "cell_type": "code",
   "execution_count": 2,
   "metadata": {},
   "outputs": [
    {
     "data": {
      "text/plain": [
       "[4.0, 3.0]"
      ]
     },
     "execution_count": 2,
     "metadata": {},
     "output_type": "execute_result"
    }
   ],
   "source": [
    "# matplotlib.rcParams.update(pu.params)\n",
    "matplotlib.rcParams.update(pu.params)\n",
    "\n",
    "plt.rcParams[\"figure.figsize\"]"
   ]
  },
  {
   "cell_type": "code",
   "execution_count": 3,
   "metadata": {},
   "outputs": [],
   "source": [
    "# %%timeit\n",
    "# np.random.seed(456)\n",
    "# roadlen=200\n",
    "# num_lanes=1\n",
    "# road = Road(roadlen, num_lanes, vmax=5, alpha=1e-3, frac_bus=1/num_lanes, periodic=True, density=0.3, p_slow=0.)\n",
    "# data = []\n",
    "# T_trans = 2000\n",
    "# T = 2000\n",
    "# std = np.zeros((T, num_lanes, roadlen))\n",
    "# std_p = np.zeros((T, num_lanes, roadlen))\n",
    "# for i in range(T_trans+T):\n",
    "# #     std[i] = road.road\n",
    "# #     std_p[i] = road.pedestrian\n",
    "\n",
    "#     road.timestep_parallel()\n",
    "#     if i>=T_trans:\n",
    "#         for veh in road.vehicle_array:\n",
    "#             data.append({\n",
    "#                 \"lane\": veh.lane,\n",
    "#                 \"pos\": veh.pos,\n",
    "#                 \"vel\": veh.vel,\n",
    "#                 \"id\": id(veh),\n",
    "#                 \"marker\": veh.marker,\n",
    "#                 \"time\": i\n",
    "#             })"
   ]
  },
  {
   "cell_type": "code",
   "execution_count": null,
   "metadata": {},
   "outputs": [],
   "source": [
    "sim_time = 3000\n",
    "trans_time = 1000\n",
    "num_lanes = 1\n",
    "\n",
    "def simulate(density, frac_bus, trial, alpha):\n",
    "    roadlength = 500\n",
    "    vmax = 5\n",
    "    alpha = alpha\n",
    "    frac_bus = frac_bus\n",
    "    density = density\n",
    "    p_slow = 0.1\n",
    "    periodic = True\n",
    "    throughputs = []\n",
    "    road = Road(roadlength, num_lanes, vmax, alpha, \n",
    "                        frac_bus, periodic, density, p_slow)\n",
    "    for t in range(sim_time+trans_time):\n",
    "        road.timestep_parallel()\n",
    "        if t >= trans_time:\n",
    "            throughputs.append(road.throughput())\n",
    "    res = {\"throughput\": np.mean(throughputs),\n",
    "            \"frac_bus\": frac_bus,\n",
    "            \"density\": road.get_density(),\n",
    "            \"trial\": trial,\n",
    "            \"alpha\": alpha, \n",
    "            \"p_slow\": p_slow}    \n",
    "    return res\n",
    "\n",
    "densities = np.arange(0.02, 1, 0.02)\n",
    "densities = np.arange(0.2, 0.81, 0.1)\n",
    "\n",
    "bus_fractions = np.linspace(0, 1/num_lanes, 11)\n",
    "trials = range(50)\n",
    "alphas = np.geomspace(1e-4, 1, 49)\n",
    "# alphas = np.geomspace(1e-4, 1, 29)\n",
    "\n",
    "def g(tup):\n",
    "    return simulate(*tup)\n",
    "p = Pool()\n",
    "\n",
    "\n",
    "with open('../data/dataset_safe_decel.csv', 'w') as f:\n",
    "    writer = csv.writer(f)\n",
    "    lines = 0\n",
    "    ## crossover data\n",
    "    densities = np.arange(0.2, 0.81, 0.1)\n",
    "    alphas = np.geomspace(1e-4, 1, 49)\n",
    "    for result in p.imap_unordered(g, itertools.product(densities, [1], trials, alphas)):\n",
    "        if lines == 0:\n",
    "            writer.writerow(result.keys())\n",
    "            lines += 1\n",
    "        writer.writerow(result.values())\n",
    "        \n",
    "    ## FD data\n",
    "    densities = np.arange(0.02, 1, 0.02)\n",
    "    bus_fractions = [0,0.2,0.5]\n",
    "    for result in p.imap_unordered(g, itertools.product(densities, bus_fractions, trials, [1e-3])):\n",
    "        writer.writerow(result.values())\n",
    "        \n",
    "    ## bus fraction crossover data\n",
    "    densities = np.arange(0.02, 0.6, 0.02)\n",
    "    bus_fractions = [0.1,0.4,0.7]\n",
    "    alphas = np.geomspace(1e-4, 1, 49)\n",
    "    for result in p.imap_unordered(g, itertools.product(densities, bus_fractions, trials, alphas)):\n",
    "        writer.writerow(result.values())"
   ]
  },
  {
   "cell_type": "code",
   "execution_count": 7,
   "metadata": {},
   "outputs": [
    {
     "name": "stdout",
     "output_type": "stream",
     "text": [
      " anim.mp4                 'Multilane Traffic.ipynb'   SPP2019.ipynb\n",
      " Crowding.ipynb            PAASE.ipynb                Stations.ipynb\n",
      " DataGenerator.ipynb       PeriodicStations.ipynb     std_comparison.py\n",
      " images.tar                plot_init.py               tests.ipynb\n",
      " ManuscriptFigures.ipynb   \u001b[0m\u001b[01;34m__pycache__\u001b[0m/               Untitled.ipynb\n"
     ]
    }
   ],
   "source": [
    "ls"
   ]
  },
  {
   "cell_type": "code",
   "execution_count": null,
   "metadata": {},
   "outputs": [],
   "source": [
    "# sim_time = 1000\n",
    "# trans_time = 500\n",
    "# num_lanes = 1\n",
    "\n",
    "# def simulate(density, frac_bus, trial, alpha):\n",
    "#     roadlength = 100\n",
    "#     vmax = 1\n",
    "#     alpha = alpha\n",
    "#     frac_bus = frac_bus\n",
    "#     density = density\n",
    "#     p_slow = 0.5\n",
    "#     periodic = True\n",
    "#     throughputs = []\n",
    "#     road = Road(roadlength, num_lanes, vmax, alpha, \n",
    "#                         frac_bus, periodic, density, p_slow)\n",
    "#     for t in range(sim_time+trans_time):\n",
    "#         road.timestep()\n",
    "#         if t >= trans_time:\n",
    "#             throughputs.append(road.throughput())\n",
    "#     return {\"throughput\": np.mean(throughputs),\n",
    "#             \"frac_bus\": frac_bus,\n",
    "#             \"density\": road.get_density(),\n",
    "#             \"trial\": trial,\n",
    "#             \"alpha\": alpha, \n",
    "#             \"p_slow\": p_slow}\n",
    "\n",
    "# densities = np.arange(0.02, 1, 0.02)\n",
    "# bus_fractions = [1]\n",
    "# trials = range(50)\n",
    "# alphas = [0.0]\n",
    "# p = Pool()\n",
    "# s = p.starmap(simulate, itertools.product(densities, bus_fractions, trials, alphas))\n",
    "# df_parallel = pd.DataFrame(s)"
   ]
  },
  {
   "cell_type": "code",
   "execution_count": null,
   "metadata": {},
   "outputs": [],
   "source": [
    "q = df_parallel.groupby(\"density\").mean().reset_index()\n",
    "q['speed'] = q['throughput']/q['density']\n",
    "q.plot(x=\"density\", y=\"speed\", marker='o', ms=2)\n",
    "plt.grid()"
   ]
  },
  {
   "cell_type": "code",
   "execution_count": null,
   "metadata": {},
   "outputs": [],
   "source": [
    "# road = Road(100, 2, vmax=5, frac_bus=0.5, alpha=0)\n",
    "# # road.road[-1, 50] = 2\n",
    "# road.pedestrian[-1, 20] = 1\n",
    "\n",
    "# fig, ax = plt.subplots(1, figsize=(10,1))\n",
    "# im = ax.imshow(road.road, vmin=0, vmax=2)\n",
    "\n",
    "# # animation function.  This is called sequentially\n",
    "# def animate(i):\n",
    "#     road.timestep()\n",
    "#     im.set_data(road.road)\n",
    "#     return im,\n",
    "\n",
    "# # # call the animator.  blit=True means only re-draw the parts that have changed.\n",
    "# anim = animation.FuncAnimation(fig, animate,\n",
    "#                                frames=100, interval=200, blit=True)\n",
    "# HTML(anim.to_html5_video())"
   ]
  },
  {
   "cell_type": "code",
   "execution_count": null,
   "metadata": {},
   "outputs": [],
   "source": [
    "roadlength = 50\n",
    "num_lanes = 1\n",
    "road = Road(roadlength, num_lanes, vmax=5, alpha=1e-2, frac_bus=0.1/num_lanes, periodic=True, density=0.3, p_slow=0)\n",
    "\n",
    "# road.road[:, 50] = 2\n",
    "# road.pedestrian[-1, 20] = 1\n",
    "my_cmap = matplotlib.cm.get_cmap('gray_r')\n",
    "my_cmap.set_over('r')\n",
    "\n",
    "fig, ax = plt.subplots(1, figsize=(5,num_lanes/roadlength*5), dpi=200)\n",
    "im = ax.imshow(road.road, vmin=0, vmax=1, cmap=my_cmap)\n",
    "ax.set_yticks([])\n",
    "# animation function.  This is called sequentially\n",
    "def animate(i):\n",
    "    road.timestep()\n",
    "    im.set_data(road.road)\n",
    "    return im,\n",
    "\n",
    "# call the animator.  blit=True means only re-draw the parts that have changed.\n",
    "anim = animation.FuncAnimation(fig, animate,\n",
    "                               frames=200, interval=200, blit=True)\n",
    "HTML(anim.to_html5_video())\n",
    "anim.save(\"anim.mp4\")"
   ]
  },
  {
   "cell_type": "code",
   "execution_count": null,
   "metadata": {},
   "outputs": [],
   "source": [
    "sim_time = 3000\n",
    "trans_time = 500\n",
    "num_lanes = 1\n",
    "\n",
    "def simulate(density, frac_bus, trial, alpha):\n",
    "    roadlength = 400\n",
    "    vmax = 5\n",
    "    alpha = alpha\n",
    "    frac_bus = frac_bus\n",
    "    density = density\n",
    "    p_slow = 0\n",
    "    periodic = True\n",
    "    throughputs = []\n",
    "    road = Road(roadlength, num_lanes, vmax, alpha, \n",
    "                        frac_bus, periodic, density, p_slow)\n",
    "    for t in range(sim_time+trans_time):\n",
    "        road.timestep()\n",
    "        if t >= trans_time:\n",
    "            throughputs.append(road.throughput())\n",
    "    return {\"throughput\": np.mean(throughputs),\n",
    "            \"frac_bus\": frac_bus,\n",
    "            \"density\": road.get_density(),\n",
    "            \"trial\": trial,\n",
    "            \"alpha\": alpha, \n",
    "            \"p_slow\": 0}\n",
    "\n",
    "densities = np.arange(0.02, 1, 0.02)\n",
    "bus_fractions = np.linspace(0, 1/num_lanes, 5)\n",
    "trials = range(50)\n",
    "alphas = [1e-3, 1e-2, 1e-1]\n",
    "# p = Pool()\n",
    "# s = p.starmap(simulate, itertools.product(densities, bus_fractions, trials, alphas))\n",
    "# df = pd.DataFrame(s)\n",
    "# df.to_csv(\"throughput-density-1lane.csv\")"
   ]
  },
  {
   "cell_type": "code",
   "execution_count": null,
   "metadata": {},
   "outputs": [],
   "source": [
    "plt.rc('font', family='serif')\n",
    "# df = pd.DataFrame(s)\n",
    "# df = pd.read_csv(\"throughput-density.csv\")\n",
    "df = pd.read_csv(\"throughput-density-1lane_parallel.csv\")\n",
    "num_lanes = 1\n",
    "\n",
    "fig, axes = plt.subplots(1,2, figsize=(6,9/4), dpi=300)\n",
    "for (bus_frac, alpha), group in df.groupby([\"frac_bus\", \"alpha\"]):\n",
    "    if alpha==1e-2:\n",
    "        group = group.groupby([\"density\", \"alpha\",\"frac_bus\"])[\"throughput\"].mean().reset_index()\n",
    "        axes[1].plot(group[\"density\"], group[\"throughput\"]/group[\"density\"], marker='o', lw=1,label=r\"$f_B=%.1f$\"%bus_frac, ms=2)\n",
    "        axes[0].plot(group[\"density\"], group[\"throughput\"], marker='o', lw=1,label=r\"$f_B=%.1f$\"%bus_frac, ms=2)\n",
    "axes[0].grid()\n",
    "axes[1].grid()\n",
    "axes[1].legend()\n",
    "# axes[0].set_xlabel(\"density\")\n",
    "# axes[1].set_xlabel(\"density\")\n",
    "# axes[0].set_ylabel(\"flow (veh/timestep)\")\n",
    "# axes[1].set_ylabel(\"speed\")\n",
    "axes[0].set_xlabel(r\"$\\rho$\")\n",
    "axes[1].set_xlabel(r\"$\\rho$\")\n",
    "axes[0].set_ylabel(r\"$q$\")\n",
    "axes[1].set_ylabel(r\"$v$\")\n",
    "fig.savefig(\"images/fundamental_diagram_busfraction.pdf\", bbox_inches=\"tight\")"
   ]
  },
  {
   "cell_type": "code",
   "execution_count": null,
   "metadata": {},
   "outputs": [],
   "source": [
    "# plot_alphas.index(alpha)"
   ]
  },
  {
   "cell_type": "markdown",
   "metadata": {},
   "source": [
    "The plot above shows the flow vs density plots for $\\alpha=0.01$. For $f_B>0$, we observe two competing trends. There appears to be some critical value of density for which the velocity increases until it converges to the trend of the $f_B=0$ case."
   ]
  },
  {
   "cell_type": "markdown",
   "metadata": {},
   "source": [
    "# Spatiotemporal Diagrams"
   ]
  },
  {
   "cell_type": "code",
   "execution_count": null,
   "metadata": {},
   "outputs": [],
   "source": [
    "%run -i std_comparison.py"
   ]
  },
  {
   "cell_type": "code",
   "execution_count": null,
   "metadata": {},
   "outputs": [],
   "source": [
    "### roadlen = 400\n",
    "num_lanes = 1\n",
    "# np.random.seed(2882936862)\n",
    "# randseed = np.random.get_state()\n",
    "road = Road(roadlen, num_lanes, vmax=5, alpha=1, frac_bus=1/num_lanes, periodic=True, density=0.3, p_slow=0.)\n",
    "\n",
    "T = 800\n",
    "std = np.zeros((T, num_lanes, roadlen))\n",
    "for i in range(T):\n",
    "    std[i] = road.road\n",
    "    road.timestep()\n",
    "\n",
    "fig_width = 2\n",
    "my_cmap = matplotlib.cm.get_cmap('gray_r')\n",
    "my_cmap.set_over('r')\n",
    "fig, axes = plt.subplots(1,num_lanes,figsize=(fig_width,fig_width/num_lanes*(T/roadlen)), dpi=400, sharey=True, sharex=True)\n",
    "if num_lanes == 1:\n",
    "    axes = [axes]\n",
    "for i, ax in enumerate(axes):\n",
    "    im = ax.imshow(1*(std[:,i,:]), origin=\"lower\", cmap=my_cmap, vmax=1.001)\n",
    "ax_par = fig.add_subplot(111, frameon=True, zorder=-1)\n",
    "ax_par.set_xlabel(\"position\")\n",
    "ax_par.set_ylabel(\"time\")\n",
    "ax_par.tick_params(labelcolor='none', top=False, bottom=False, left=False, right=False)\n",
    "ax.axis(\"off\")"
   ]
  },
  {
   "cell_type": "markdown",
   "metadata": {},
   "source": [
    "# Phase transitions in alpha"
   ]
  },
  {
   "cell_type": "code",
   "execution_count": null,
   "metadata": {},
   "outputs": [],
   "source": [
    "sim_time = 3000\n",
    "trans_time = 1000\n",
    "num_lanes = 1\n",
    "\n",
    "def simulate(density, frac_bus, trial, alpha):\n",
    "    roadlength = 200\n",
    "    vmax = 5\n",
    "    alpha = alpha\n",
    "    frac_bus = frac_bus\n",
    "    density = density\n",
    "    p_slow = 0\n",
    "    periodic = True\n",
    "    throughputs = []\n",
    "    road = Road(roadlength, num_lanes, vmax, alpha, \n",
    "                        frac_bus, periodic, density, p_slow)\n",
    "    for t in range(sim_time+trans_time):\n",
    "        road.timestep_parallel()\n",
    "        if t >= trans_time:\n",
    "            throughputs.append(road.throughput())\n",
    "    return {\"throughput\": np.mean(throughputs),\n",
    "            \"frac_bus\": frac_bus,\n",
    "            \"density\": road.get_density(),\n",
    "            \"trial\": trial,\n",
    "            \"alpha\": alpha, \n",
    "            \"p_slow\": 0}\n",
    "\n",
    "densities = np.arange(0.02, 1, 0.02)\n",
    "bus_fractions = np.linspace(0, 1/num_lanes, 5)\n",
    "trials = range(50)\n",
    "alphas = np.geomspace(1e-4, 1, 49)\n",
    "p = Pool()\n",
    "# s = p.starmap(simulate, itertools.product(densities, bus_fractions, trials, alphas))\n",
    "# df = pd.DataFrame(s)\n",
    "# df.to_csv(\"alpha_transitions_parallel.csv\")"
   ]
  },
  {
   "cell_type": "code",
   "execution_count": null,
   "metadata": {},
   "outputs": [],
   "source": [
    "plt.rc('font', family='serif')\n",
    "# df = pd.DataFrame(s)\n",
    "# df = pd.read_csv(\"alpha_transitions.csv\")\n",
    "# num_lanes = 1\n",
    "df = pd.read_csv(\"alpha_transitions_parallel.csv\")\n",
    "df = df[df[\"frac_bus\"]==1]\n",
    "df['speed'] = df[\"throughput\"]/df[\"density\"]\n",
    "pt = pd.pivot_table(df, values=\"throughput\", index=\"alpha\", columns=\"density\")\n",
    "ps = pd.pivot_table(df, values=\"speed\", index=\"alpha\", columns=\"density\")\n",
    "\n",
    "df = df[df[\"alpha\"].isin(df[\"alpha\"].unique()[::12])]\n",
    "plt.figure(figsize=(4,3), dpi=300)\n",
    "fig, axes = plt.subplots(1,2, figsize=(6,9/4), dpi=300)\n",
    "for (alpha), group in df.groupby([\"alpha\"]):\n",
    "    group = group.groupby([\"density\", \"alpha\"])[\"throughput\", \"speed\"].mean().reset_index()\n",
    "    axes[1].plot(group[\"density\"], group[\"speed\"], marker='o', lw=1,label=r\"$\\lambda=10^{%.0f}$\"%np.log10(alpha), ms=2)\n",
    "    axes[0].plot(group[\"density\"], group[\"throughput\"], marker='o', lw=1,label=r\"$\\lambda=10^{%.0f}$\"%np.log10(alpha), ms=2)\n",
    "axes[0].grid()\n",
    "axes[1].grid()\n",
    "axes[1].legend()\n",
    "axes[0].set_xlabel(r\"$\\rho$\")\n",
    "axes[1].set_xlabel(r\"$\\rho$\")\n",
    "axes[0].set_ylabel(r\"$q$\")\n",
    "axes[1].set_ylabel(r\"$\\bar{v}$\")\n",
    "fig.savefig(\"images/fundamental_diagram_alpha.pdf\", bbox_inches=\"tight\")"
   ]
  },
  {
   "cell_type": "code",
   "execution_count": null,
   "metadata": {},
   "outputs": [],
   "source": [
    "df = pd.read_csv(\"alpha_transitions_parallel.csv\")\n",
    "df.alpha.unique()"
   ]
  },
  {
   "cell_type": "code",
   "execution_count": null,
   "metadata": {},
   "outputs": [],
   "source": [
    "plt.imshow(pt)\n",
    "plt.yticks(range(pt.index.size)[::10], np.log10(pt.index)[::10])\n",
    "plt.xticks(range(pt.columns.size)[::10], [round(i,2) for i in pt.columns[::10]])\n",
    "cax = plt.colorbar()\n",
    "cax.set_label(\"throughput\")"
   ]
  },
  {
   "cell_type": "code",
   "execution_count": null,
   "metadata": {},
   "outputs": [],
   "source": [
    "plt.imshow(ps)\n",
    "plt.yticks(range(pt.index.size)[::10], np.log10(pt.index)[::10])\n",
    "plt.xticks(range(pt.columns.size)[::10], [round(i,2) for i in pt.columns[::10]])\n",
    "cax = plt.colorbar()\n",
    "cax.set_label(\"speed\")"
   ]
  },
  {
   "cell_type": "markdown",
   "metadata": {},
   "source": [
    "# Order Parameter"
   ]
  },
  {
   "cell_type": "code",
   "execution_count": null,
   "metadata": {},
   "outputs": [],
   "source": [
    "# sim_time = 1000\n",
    "# trans_time = 1000\n",
    "# num_lanes = 1\n",
    "\n",
    "# def simulate(density, frac_bus, trial, alpha):\n",
    "#     roadlength = 200\n",
    "#     vmax = 5\n",
    "#     alpha = alpha\n",
    "#     frac_bus = frac_bus\n",
    "#     density = density\n",
    "#     p_slow = 0\n",
    "#     periodic = True\n",
    "#     throughputs = []\n",
    "#     op = []\n",
    "#     road = Road(roadlength, num_lanes, vmax, alpha, \n",
    "#                         frac_bus, periodic, density, p_slow)\n",
    "#     for t in range(sim_time+trans_time):\n",
    "#         road.timestep()\n",
    "#         if t >= trans_time:\n",
    "#             throughputs.append(road.throughput())\n",
    "#             op.append(np.sum(np.convolve(np.array(road.road)[0]>0, np.ones((2,)), mode='valid')//2))\n",
    "#     return {\"throughput\": np.mean(throughputs),\n",
    "#             \"frac_bus\": frac_bus,\n",
    "#             \"density\": road.get_density(),\n",
    "#             \"trial\": trial,\n",
    "#             \"alpha\": alpha, \n",
    "#             \"p_slow\": 0,\n",
    "#             \"order_parameter\": np.mean(op)\n",
    "# }\n",
    "\n",
    "# densities = np.arange(0.02, 1, 0.02)\n",
    "# bus_fractions = np.linspace(0, 1/num_lanes, 5)\n",
    "# trials = range(50)\n",
    "# alphas = np.geomspace(1e-4, 1, 49)\n",
    "# p = Pool()\n",
    "# s = p.starmap(simulate, itertools.product(densities, bus_fractions, trials, alphas))\n",
    "# df = pd.DataFrame(s)\n",
    "# df.to_csv(\"order_parameter.csv\")"
   ]
  },
  {
   "cell_type": "code",
   "execution_count": null,
   "metadata": {},
   "outputs": [],
   "source": [
    "num_lanes = 1\n",
    "df = pd.read_csv(\"order_parameter.csv\")\n",
    "# df = df[df[\"frac_bus\"]==0.25]\n",
    "# df['speed'] = df[\"throughput\"]/df[\"density\"]/200/num_lanes\n",
    "op = pd.pivot_table(df, values=\"order_parameter\", index=\"alpha\", columns=\"density\")\n",
    "\n",
    "plt.imshow(op, cmap=\"viridis_r\")\n",
    "plt.yticks(range(op.index.size)[::10], np.log10(op.index)[::10])\n",
    "plt.xticks(range(op.columns.size)[::10], [round(i,2) for i in op.columns[::10]])\n",
    "cax = plt.colorbar()\n",
    "cax.set_label(\"order parameter\")"
   ]
  },
  {
   "cell_type": "code",
   "execution_count": null,
   "metadata": {},
   "outputs": [],
   "source": [
    "fig, ax = plt.subplots(1,1)\n",
    "# plt.rcParams['figure.figsize'] = 3, 3*3/4\n",
    "\n",
    "\n",
    "start = 9\n",
    "stop = -1\n",
    "skip = 10\n",
    "for i, data in enumerate(ps.values[:,start:stop:skip].T):\n",
    "#     ax.plot(alphas/(densities[i*skip+start]), (data-data.min())/(data.max()-data.min()), label=r\"$\\rho=%.2f$\"%(densities[i*skip+start]))\n",
    "    ax.plot(alphas, data, label=r\"$\\rho=%.2f$\"%(densities[i*skip+start]), marker='o', ms=2)\n",
    "\n",
    "ax.set_xscale('log')\n",
    "# ax.set_yscale('log')\n",
    "\n",
    "ax.set_xlabel(r\"$\\lambda$\")\n",
    "ax.set_ylabel(r\"$\\bar{v}$\")\n",
    "ax.legend()\n",
    "ax.grid()\n",
    "ax.yaxis.set_major_locator(plt.MultipleLocator(1))\n",
    "\n",
    "# plt.axvline(10**-2)\n",
    "fig.savefig(\"images/lambda_crossover.pdf\", bbox_inches=\"tight\")\n",
    "\n"
   ]
  },
  {
   "cell_type": "code",
   "execution_count": null,
   "metadata": {},
   "outputs": [],
   "source": [
    "!tar -czf images.tar images"
   ]
  },
  {
   "cell_type": "code",
   "execution_count": null,
   "metadata": {},
   "outputs": [],
   "source": [
    "fig.get_figwidth()"
   ]
  },
  {
   "cell_type": "code",
   "execution_count": null,
   "metadata": {},
   "outputs": [],
   "source": [
    "ps.values\n"
   ]
  },
  {
   "cell_type": "code",
   "execution_count": null,
   "metadata": {},
   "outputs": [],
   "source": [
    "grad = np.gradient(ps.values, 0.02, axis=0)\n",
    "plt.plot(ps.columns.values, alphas[np.argmax(grad, axis=0)], marker='o', ms=4, )\n",
    "plt.xlabel(r\"$\\rho$\")\n",
    "plt.ylabel(r\"$\\lambda^*$\")\n",
    "plt.grid()\n",
    "plt.yscale(\"log\")"
   ]
  },
  {
   "cell_type": "code",
   "execution_count": null,
   "metadata": {},
   "outputs": [],
   "source": [
    "ps.index.values"
   ]
  },
  {
   "cell_type": "code",
   "execution_count": null,
   "metadata": {},
   "outputs": [],
   "source": []
  }
 ],
 "metadata": {
  "kernelspec": {
   "display_name": "Python [conda env:pcari]",
   "language": "python",
   "name": "conda-env-pcari-py"
  },
  "language_info": {
   "codemirror_mode": {
    "name": "ipython",
    "version": 3
   },
   "file_extension": ".py",
   "mimetype": "text/x-python",
   "name": "python",
   "nbconvert_exporter": "python",
   "pygments_lexer": "ipython3",
   "version": "3.7.3"
  }
 },
 "nbformat": 4,
 "nbformat_minor": 4
}
